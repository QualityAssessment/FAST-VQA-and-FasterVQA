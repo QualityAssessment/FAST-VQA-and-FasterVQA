{
 "cells": [
  {
   "cell_type": "code",
   "execution_count": 17,
   "id": "3d58d691-13a5-4ed2-9988-5aa3645c8a9a",
   "metadata": {},
   "outputs": [],
   "source": [
    "import torch\n",
    "import numpy as np\n",
    "from collections import defaultdict\n",
    "from scipy.stats import spearmanr, pearsonr\n",
    "from scipy.stats.stats import kendalltau as kendallr"
   ]
  },
  {
   "cell_type": "code",
   "execution_count": 105,
   "id": "d92b4538-72d5-470a-84be-7b051df5f5bf",
   "metadata": {},
   "outputs": [
    {
     "data": {
      "text/plain": [
       "array([[ 0,  1,  2,  3,  4,  5,  6,  7,  8,  9, 10, 11, 12, 13, 14, 15],\n",
       "       [16, 17, 18, 19, 20, 21, 22, 23, 24, 25, 26, 27, 28, 29, 30, 31],\n",
       "       [32, 33, 34, 35, 36, 37, 38, 39, 40, 41, 42, 43, 44, 45, 46, 47],\n",
       "       [48, 49, 50, 51, 52, 53, 54, 55, 56, 57, 58, 59, 60, 61, 62, 63]])"
      ]
     },
     "execution_count": 105,
     "metadata": {},
     "output_type": "execute_result"
    }
   ],
   "source": [
    "np.array(range(64)).reshape(4,16).reshape(8,8)"
   ]
  },
  {
   "cell_type": "code",
   "execution_count": 101,
   "id": "e3558165-8049-43b2-805a-8f3cc3c42a06",
   "metadata": {},
   "outputs": [
    {
     "data": {
      "text/plain": [
       "[3, 2, 1, 4]"
      ]
     },
     "execution_count": 101,
     "metadata": {},
     "output_type": "execute_result"
    }
   ],
   "source": [
    "k"
   ]
  },
  {
   "cell_type": "code",
   "execution_count": 94,
   "id": "add99821-f49f-484b-815e-147c646ec917",
   "metadata": {},
   "outputs": [],
   "source": [
    "results = torch.load('results/results_lsvq_s32*32_ens6.pkl')"
   ]
  },
  {
   "cell_type": "code",
   "execution_count": 91,
   "id": "df0f7836-121f-4d15-938f-6a5666445ec9",
   "metadata": {},
   "outputs": [],
   "source": [
    "def rescale(pr, gt=None):\n",
    "    if gt is None:\n",
    "        pr = ((pr - np.mean(pr)) / np.std(pr))\n",
    "    else:\n",
    "        pr = ((pr - np.mean(pr)) / np.std(pr)) * np.std(gt) + np.mean(gt)\n",
    "    return pr\n",
    "\n",
    "all_datasets = ['LIVE_VQC', 'KoNViD', 'CVD2014', 'LSVQ']\n",
    "\n",
    "def pyramid_ensemble_coefficients(results):\n",
    "    ens_result_len = results[0].get('pr_labels').shape[0] // 4\n",
    "    \n",
    "    gt_labels = [r['gt_label'] for r in results]\n",
    "    \n",
    "    p_results = defaultdict()\n",
    "    \n",
    "    for i in range(1, ens_result_len + 1):\n",
    "        scores = np.zeros(4)\n",
    "        for j in range(ens_result_len - i + 1):\n",
    "            pr_labels = [np.mean(r['pr_labels'][j*4:(j+i)*4]) for r in results]\n",
    "            pr_labels = rescale(pr_labels, gt_labels)\n",
    "            scores += np.array([spearmanr(gt_labels, pr_labels)[0], pearsonr(gt_labels, pr_labels)[0], kendallr(gt_labels, pr_labels)[0], np.sqrt(((gt_labels - pr_labels) ** 2).mean())])\n",
    "        scores /= ens_result_len - i + 1\n",
    "        p_results[i] = scores\n",
    "        \n",
    "    return p_results\n",
    "\n",
    "def pyramid_ensemble_stds(results):\n",
    "    ens_result_len = results[0].get('pr_labels').shape[0] // 4\n",
    "    \n",
    "    gt_labels = [r['gt_label'] for r in results]\n",
    "    \n",
    "    s_results = defaultdict()\n",
    "    \n",
    "    for i in range(1, ens_result_len + 1):\n",
    "        all_pr_labels = []\n",
    "        stds = np.zeros(2)\n",
    "    \n",
    "        for j in range(ens_result_len - i + 1):\n",
    "            pr_labels = [np.mean(r['pr_labels'][j*4:(j+i)*4]) for r in results]\n",
    "            pr_labels = rescale(pr_labels, gt_labels)\n",
    "            all_pr_labels.append(pr_labels)\n",
    "\n",
    "        all_pr_labels = np.stack(all_pr_labels, 1)\n",
    "        for q in range(2):\n",
    "            stds[q] = np.mean(np.std(all_pr_labels, q))\n",
    "        s_results[i] = stds\n",
    "    return s_results"
   ]
  },
  {
   "cell_type": "code",
   "execution_count": 97,
   "id": "4bcc6a84-34da-49d9-b144-b57925721268",
   "metadata": {},
   "outputs": [
    {
     "data": {
      "text/plain": [
       "defaultdict(None,\n",
       "            {1: array([0.87262503, 0.87225169, 0.68969995, 5.31474978]),\n",
       "             2: array([0.87391015, 0.87343881, 0.6912761 , 5.28999947]),\n",
       "             3: array([0.87441983, 0.87385815, 0.69189289, 5.28122945]),\n",
       "             4: array([0.87463606, 0.87405689, 0.69217673, 5.27706804]),\n",
       "             5: array([0.87471011, 0.87415792, 0.69229663, 5.27495101]),\n",
       "             6: array([0.87479845, 0.87423328, 0.69246272, 5.27337138])})"
      ]
     },
     "execution_count": 97,
     "metadata": {},
     "output_type": "execute_result"
    }
   ],
   "source": [
    "pyramid_ensemble_coefficients(results[:7186])"
   ]
  },
  {
   "cell_type": "code",
   "execution_count": 98,
   "id": "a9696c75-80a5-400f-96ba-40cf3d164fd0",
   "metadata": {},
   "outputs": [
    {
     "data": {
      "text/plain": [
       "defaultdict(None,\n",
       "            {1: array([10.51454163,  0.61519825]),\n",
       "             2: array([10.51454353,  0.37080199]),\n",
       "             3: array([10.51454258,  0.23773439]),\n",
       "             4: array([10.51454639,  0.14751394]),\n",
       "             5: array([10.51453972,  0.07975236]),\n",
       "             6: array([10.51454544,  0.        ])})"
      ]
     },
     "execution_count": 98,
     "metadata": {},
     "output_type": "execute_result"
    }
   ],
   "source": [
    "pyramid_ensemble_stds(results[:7186])"
   ]
  },
  {
   "cell_type": "code",
   "execution_count": null,
   "id": "2450a273-b1b4-44c5-b23c-30056658734d",
   "metadata": {},
   "outputs": [],
   "source": []
  }
 ],
 "metadata": {
  "kernelspec": {
   "display_name": "GPU_Debug",
   "language": "python",
   "name": "pt1.8v"
  },
  "language_info": {
   "codemirror_mode": {
    "name": "ipython",
    "version": 3
   },
   "file_extension": ".py",
   "mimetype": "text/x-python",
   "name": "python",
   "nbconvert_exporter": "python",
   "pygments_lexer": "ipython3",
   "version": "3.8.8"
  }
 },
 "nbformat": 4,
 "nbformat_minor": 5
}
