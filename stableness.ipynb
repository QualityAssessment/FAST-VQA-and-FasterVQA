{
 "cells": [
  {
   "cell_type": "code",
   "execution_count": 2,
   "id": "3d58d691-13a5-4ed2-9988-5aa3645c8a9a",
   "metadata": {},
   "outputs": [],
   "source": [
    "import torch\n",
    "import numpy as np\n",
    "from collections import defaultdict\n",
    "from scipy.stats import spearmanr, pearsonr\n",
    "from scipy.stats.stats import kendalltau as kendallr"
   ]
  },
  {
   "cell_type": "code",
   "execution_count": 79,
   "id": "add99821-f49f-484b-815e-147c646ec917",
   "metadata": {},
   "outputs": [],
   "source": [
    "results = torch.load('results/results_live_vqc_s32*32_ens6.pkl')"
   ]
  },
  {
   "cell_type": "code",
   "execution_count": 80,
   "id": "df0f7836-121f-4d15-938f-6a5666445ec9",
   "metadata": {},
   "outputs": [],
   "source": [
    "def rescale(pr, gt=None):\n",
    "    if gt is None:\n",
    "        pr = ((pr - np.mean(pr)) / np.std(pr))\n",
    "    else:\n",
    "        pr = ((pr - np.mean(pr)) / np.std(pr)) * np.std(gt) + np.mean(gt)\n",
    "    return pr\n",
    "\n",
    "all_datasets = ['LIVE_VQC', 'KoNViD', 'CVD2014', 'LSVQ']\n",
    "\n",
    "def pyramid_ensemble_coefficients(results):\n",
    "    ens_result_len = results[0].get('pr_labels').shape[0] // 4\n",
    "    \n",
    "    gt_labels = [r['gt_label'] for r in results]\n",
    "    \n",
    "    p_results = defaultdict()\n",
    "    \n",
    "    for i in range(1, ens_result_len + 1):\n",
    "        scores = np.zeros(4)\n",
    "        for j in range(ens_result_len - i + 1):\n",
    "            pr_labels = [np.mean(r['pr_labels'][j*4:(j+i)*4]) for r in results]\n",
    "            pr_labels = rescale(pr_labels, gt_labels)\n",
    "            scores += np.array([spearmanr(gt_labels, pr_labels)[0], pearsonr(gt_labels, pr_labels)[0], kendallr(gt_labels, pr_labels)[0], np.sqrt(((gt_labels - pr_labels) ** 2).mean())])\n",
    "        scores /= ens_result_len - i + 1\n",
    "        p_results[i] = scores\n",
    "        \n",
    "    return p_results\n",
    "\n",
    "def pyramid_ensemble_stds(results):\n",
    "    ens_result_len = results[0].get('pr_labels').shape[0] // 4\n",
    "    \n",
    "    gt_labels = [r['gt_label'] for r in results]\n",
    "    \n",
    "    s_results = defaultdict()\n",
    "    \n",
    "    for i in range(1, ens_result_len + 1):\n",
    "        all_pr_labels = []\n",
    "        stds = np.zeros(2)\n",
    "    \n",
    "        for j in range(ens_result_len - i + 1):\n",
    "            pr_labels = [np.mean(r['pr_labels'][j*4:(j+i)*4]) for r in results]\n",
    "            pr_labels = rescale(pr_labels, gt_labels)\n",
    "            all_pr_labels.append(pr_labels)\n",
    "\n",
    "        all_pr_labels = np.stack(all_pr_labels, 1)\n",
    "        for q in range(2):\n",
    "            stds[q] = np.mean(np.std(all_pr_labels, q))\n",
    "        s_results[i] = stds\n",
    "    return s_results"
   ]
  },
  {
   "cell_type": "code",
   "execution_count": 82,
   "id": "4bcc6a84-34da-49d9-b144-b57925721268",
   "metadata": {},
   "outputs": [
    {
     "data": {
      "text/plain": [
       "defaultdict(None,\n",
       "            {1: array([0.82231966, 0.84298417, 0.62961196, 9.55846627]),\n",
       "             2: array([0.82415349, 0.84477332, 0.63168081, 9.50419353]),\n",
       "             3: array([0.82465459, 0.84517109, 0.63225803, 9.49201806]),\n",
       "             4: array([0.82506118, 0.84536551, 0.63282197, 9.48607255]),\n",
       "             5: array([0.82504333, 0.84552036, 0.63273221, 9.48133771]),\n",
       "             6: array([0.82485328, 0.84508254, 0.63265025, 9.49476492])})"
      ]
     },
     "execution_count": 82,
     "metadata": {},
     "output_type": "execute_result"
    }
   ],
   "source": [
    "pyramid_ensemble_coefficients(results)"
   ]
  },
  {
   "cell_type": "code",
   "execution_count": 81,
   "id": "a9696c75-80a5-400f-96ba-40cf3d164fd0",
   "metadata": {},
   "outputs": [
    {
     "data": {
      "text/plain": [
       "defaultdict(None,\n",
       "            {1: array([17.05764389,  1.04976797]),\n",
       "             2: array([17.05764389,  0.62426716]),\n",
       "             3: array([17.05764389,  0.39486992]),\n",
       "             4: array([17.05764389,  0.24477518]),\n",
       "             5: array([17.05764198,  0.13948995]),\n",
       "             6: array([17.05764389,  0.        ])})"
      ]
     },
     "execution_count": 81,
     "metadata": {},
     "output_type": "execute_result"
    }
   ],
   "source": [
    "pyramid_ensemble_stds(results)"
   ]
  },
  {
   "cell_type": "code",
   "execution_count": null,
   "id": "f5936380-8a53-4a05-898e-38c8f7c5e894",
   "metadata": {},
   "outputs": [],
   "source": []
  }
 ],
 "metadata": {
  "kernelspec": {
   "display_name": "GPU_Debug",
   "language": "python",
   "name": "pt1.8v"
  },
  "language_info": {
   "codemirror_mode": {
    "name": "ipython",
    "version": 3
   },
   "file_extension": ".py",
   "mimetype": "text/x-python",
   "name": "python",
   "nbconvert_exporter": "python",
   "pygments_lexer": "ipython3",
   "version": "3.8.8"
  }
 },
 "nbformat": 4,
 "nbformat_minor": 5
}
