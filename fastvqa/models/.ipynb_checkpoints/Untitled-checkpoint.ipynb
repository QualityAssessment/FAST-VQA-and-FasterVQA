{
 "cells": [
  {
   "cell_type": "code",
   "execution_count": 3,
   "id": "172c6089-2ab1-426e-9c6f-b9cbf66cede1",
   "metadata": {},
   "outputs": [
    {
     "data": {
      "text/plain": [
       "'/mnt/lustre/hnwu/FAST-VQA/fastvqa/models'"
      ]
     },
     "execution_count": 3,
     "metadata": {},
     "output_type": "execute_result"
    }
   ],
   "source": [
    "pwd"
   ]
  },
  {
   "cell_type": "code",
   "execution_count": 4,
   "id": "9dcd5cd8-00fc-48f0-adee-f923e2a95ffe",
   "metadata": {},
   "outputs": [
    {
     "name": "stdout",
     "output_type": "stream",
     "text": [
      "/mnt/lustre/hnwu/datasets/Kinetics/kinetics-dataset\n"
     ]
    }
   ],
   "source": [
    "cd ~/datasets/Kinetics/kinetics-dataset/"
   ]
  },
  {
   "cell_type": "code",
   "execution_count": 5,
   "id": "2dcdd8ed-c117-4890-b42e-d1898c06cdcf",
   "metadata": {},
   "outputs": [],
   "source": [
    "import pandas as pd"
   ]
  },
  {
   "cell_type": "code",
   "execution_count": 7,
   "id": "db6012f9-71fd-4093-9294-a6c743997a47",
   "metadata": {},
   "outputs": [],
   "source": [
    "test_videos = pd.read_csv(\"k400/annotations/test.csv\")"
   ]
  },
  {
   "cell_type": "code",
   "execution_count": 12,
   "id": "54d6abc0-db24-441b-8ecf-2d1f7d09eb5a",
   "metadata": {},
   "outputs": [],
   "source": [
    "dataitem = zip(test_videos[\"label\"],test_videos[\"youtube_id\"],test_videos[\"time_start\"],test_videos[\"time_end\"])"
   ]
  },
  {
   "cell_type": "code",
   "execution_count": 9,
   "id": "fe0cf2b5-d381-410c-b662-7c88b13758fb",
   "metadata": {},
   "outputs": [],
   "source": [
    "with open(\"k400/annotations/labels.pkl\",\"rb\") as f:\n",
    "    import pickle as pkl\n",
    "    labels = pkl.load(f)"
   ]
  },
  {
   "cell_type": "code",
   "execution_count": null,
   "id": "5c75103b-6dc5-4045-ba76-05947248626d",
   "metadata": {},
   "outputs": [],
   "source": [
    "label_dict  ={}\n",
    "for (i, label) in enumerate(labels):\n",
    "    label_dict[label] = i"
   ]
  },
  {
   "cell_type": "code",
   "execution_count": 14,
   "id": "12fea95b-be92-49f7-9051-dd3bcf7179d2",
   "metadata": {},
   "outputs": [],
   "source": [
    "datalist = list(dataitem)"
   ]
  },
  {
   "cell_type": "code",
   "execution_count": 16,
   "id": "8030507a-0f5b-4de1-978d-b43e623b1552",
   "metadata": {},
   "outputs": [],
   "source": [
    "import decord"
   ]
  },
  {
   "cell_type": "code",
   "execution_count": null,
   "id": "8e311f07-2aec-4b22-a4e1-68eecaa021ff",
   "metadata": {},
   "outputs": [],
   "source": [
    "strlist = []"
   ]
  },
  {
   "cell_type": "code",
   "execution_count": null,
   "id": "2bbf5a01-a193-4d3a-8936-5aeef66602d1",
   "metadata": {},
   "outputs": [],
   "source": [
    "for data in datalist:\n",
    "    try:\n",
    "        decord.VideoReader(f\"k400/test/{data[1]}_{int(data[2]):06d}_{int(data[3]):06d}.mp4\")\n",
    "        \n",
    "    except:\n",
    "        pass"
   ]
  },
  {
   "cell_type": "code",
   "execution_count": 24,
   "id": "d6c43560-c095-401a-accb-499f3a76dccc",
   "metadata": {},
   "outputs": [
    {
     "name": "stderr",
     "output_type": "stream",
     "text": [
      "[19:29:34] /github/workspace/src/video/video_reader.cc:83: ERROR opening: k400/test/3E7Jib8Yq5M_000078_0000882.mp4, No such file or directory\n"
     ]
    },
    {
     "ename": "RuntimeError",
     "evalue": "Error reading k400/test/3E7Jib8Yq5M_000078_0000882.mp4...",
     "output_type": "error",
     "traceback": [
      "\u001b[0;31m---------------------------------------------------------------------------\u001b[0m",
      "\u001b[0;31mRuntimeError\u001b[0m                              Traceback (most recent call last)",
      "\u001b[0;32m/tmp/ipykernel_8251/3137713923.py\u001b[0m in \u001b[0;36m<module>\u001b[0;34m\u001b[0m\n\u001b[1;32m      1\u001b[0m \u001b[0mdata\u001b[0m \u001b[0;34m=\u001b[0m \u001b[0mdatalist\u001b[0m\u001b[0;34m[\u001b[0m\u001b[0;36m5\u001b[0m\u001b[0;34m]\u001b[0m\u001b[0;34m\u001b[0m\u001b[0;34m\u001b[0m\u001b[0m\n\u001b[0;32m----> 2\u001b[0;31m \u001b[0mdecord\u001b[0m\u001b[0;34m.\u001b[0m\u001b[0mVideoReader\u001b[0m\u001b[0;34m(\u001b[0m\u001b[0;34mf\"k400/test/{data[1]}_{int(data[2]):06d}_{int(data[3]):06d}2.mp4\"\u001b[0m\u001b[0;34m)\u001b[0m\u001b[0;34m\u001b[0m\u001b[0;34m\u001b[0m\u001b[0m\n\u001b[0m",
      "\u001b[0;32m~/anaconda3/envs/pt1.8v/lib/python3.8/site-packages/decord/video_reader.py\u001b[0m in \u001b[0;36m__init__\u001b[0;34m(self, uri, ctx, width, height, num_threads, fault_tol)\u001b[0m\n\u001b[1;32m     55\u001b[0m                 uri, ctx.device_type, ctx.device_id, width, height, num_threads, 0, fault_tol)\n\u001b[1;32m     56\u001b[0m         \u001b[0;32mif\u001b[0m \u001b[0mself\u001b[0m\u001b[0;34m.\u001b[0m\u001b[0m_handle\u001b[0m \u001b[0;32mis\u001b[0m \u001b[0;32mNone\u001b[0m\u001b[0;34m:\u001b[0m\u001b[0;34m\u001b[0m\u001b[0;34m\u001b[0m\u001b[0m\n\u001b[0;32m---> 57\u001b[0;31m             \u001b[0;32mraise\u001b[0m \u001b[0mRuntimeError\u001b[0m\u001b[0;34m(\u001b[0m\u001b[0;34m\"Error reading \"\u001b[0m \u001b[0;34m+\u001b[0m \u001b[0muri\u001b[0m \u001b[0;34m+\u001b[0m \u001b[0;34m\"...\"\u001b[0m\u001b[0;34m)\u001b[0m\u001b[0;34m\u001b[0m\u001b[0;34m\u001b[0m\u001b[0m\n\u001b[0m\u001b[1;32m     58\u001b[0m         \u001b[0mself\u001b[0m\u001b[0;34m.\u001b[0m\u001b[0m_num_frame\u001b[0m \u001b[0;34m=\u001b[0m \u001b[0m_CAPI_VideoReaderGetFrameCount\u001b[0m\u001b[0;34m(\u001b[0m\u001b[0mself\u001b[0m\u001b[0;34m.\u001b[0m\u001b[0m_handle\u001b[0m\u001b[0;34m)\u001b[0m\u001b[0;34m\u001b[0m\u001b[0;34m\u001b[0m\u001b[0m\n\u001b[1;32m     59\u001b[0m         \u001b[0;32massert\u001b[0m \u001b[0mself\u001b[0m\u001b[0;34m.\u001b[0m\u001b[0m_num_frame\u001b[0m \u001b[0;34m>\u001b[0m \u001b[0;36m0\u001b[0m\u001b[0;34m,\u001b[0m \u001b[0;34m\"Invalid frame count: {}\"\u001b[0m\u001b[0;34m.\u001b[0m\u001b[0mformat\u001b[0m\u001b[0;34m(\u001b[0m\u001b[0mself\u001b[0m\u001b[0;34m.\u001b[0m\u001b[0m_num_frame\u001b[0m\u001b[0;34m)\u001b[0m\u001b[0;34m\u001b[0m\u001b[0;34m\u001b[0m\u001b[0m\n",
      "\u001b[0;31mRuntimeError\u001b[0m: Error reading k400/test/3E7Jib8Yq5M_000078_0000882.mp4..."
     ]
    }
   ],
   "source": [
    "data = datalist[5]\n",
    "\n"
   ]
  },
  {
   "cell_type": "code",
   "execution_count": null,
   "id": "a786da8e-97fc-4225-b5a5-a435bbe63c49",
   "metadata": {},
   "outputs": [],
   "source": []
  }
 ],
 "metadata": {
  "kernelspec": {
   "display_name": "GPU_Debug",
   "language": "python",
   "name": "pt1.8v"
  },
  "language_info": {
   "codemirror_mode": {
    "name": "ipython",
    "version": 3
   },
   "file_extension": ".py",
   "mimetype": "text/x-python",
   "name": "python",
   "nbconvert_exporter": "python",
   "pygments_lexer": "ipython3",
   "version": "3.8.8"
  }
 },
 "nbformat": 4,
 "nbformat_minor": 5
}
